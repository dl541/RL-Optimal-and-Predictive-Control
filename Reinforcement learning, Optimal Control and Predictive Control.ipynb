{
 "cells": [
  {
   "cell_type": "code",
   "execution_count": 57,
   "metadata": {},
   "outputs": [],
   "source": [
    "import numpy as np\n",
    "from enum import Enum"
   ]
  },
  {
   "cell_type": "markdown",
   "metadata": {},
   "source": [
    "# Experiment setup"
   ]
  },
  {
   "cell_type": "code",
   "execution_count": 98,
   "metadata": {},
   "outputs": [],
   "source": [
    "def generateWorld(height, width):\n",
    "    world = np.random.randint(1, 10, size = (height, width)) * 1.0\n",
    "    world[-1][-1] = -10.\n",
    "    print(\"World:\\n{}\".format(world))\n",
    "    return world"
   ]
  },
  {
   "cell_type": "code",
   "execution_count": 99,
   "metadata": {
    "scrolled": true
   },
   "outputs": [
    {
     "name": "stdout",
     "output_type": "stream",
     "text": [
      "World:\n",
      "[[  8.   3.   9.   4.   2.]\n",
      " [  7.   8.   1.   7.   2.]\n",
      " [  2.   5.   4.   3.   7.]\n",
      " [  7.   7.   2.   9.   9.]\n",
      " [  6.   5.   1.   9. -10.]]\n"
     ]
    }
   ],
   "source": [
    "height, width = 5, 5\n",
    "\n",
    "world = generateWorld(height,width)\n"
   ]
  },
  {
   "cell_type": "markdown",
   "metadata": {},
   "source": [
    "# Value iteration and Policy extraction"
   ]
  },
  {
   "cell_type": "code",
   "execution_count": 100,
   "metadata": {},
   "outputs": [],
   "source": [
    "def valueIteration(current_values, world, iterations = 1, gamma = 0.8):\n",
    "\n",
    "    for _ in range(iterations):\n",
    "        old_values = np.copy(current_values)\n",
    "        \n",
    "        for r, row in enumerate(world):\n",
    "            for c, value in enumerate(row):\n",
    "                best_value = float(\"inf\")\n",
    "                \n",
    "                if c < len(row) - 1:\n",
    "                    current_values[r][c] = min(world[r][c + 1] + gamma * old_values[r][c + 1], best_value)\n",
    "                    \n",
    "                if r < len(world) - 1:\n",
    "                    current_values[r][c] = min(world[r + 1][c] + gamma * old_values[r + 1][c], best_value)\n",
    "\n",
    "def policyExtraction(current_values, world, gamma = 0.8):\n",
    "    policy = [[None for _ in row] for row in world]\n",
    "    \n",
    "    for r in range(len(world)):\n",
    "        for c in range(len(world[0])):\n",
    "            best_value = float(\"inf\")\n",
    "            \n",
    "            if c < len(world[0]) - 1:\n",
    "                next_value = world[r][c + 1] + gamma * current_values[r][c + 1] \n",
    "                if next_value < best_value:\n",
    "                    best_value = next_value\n",
    "                    policy[r][c] = \"R\"\n",
    "\n",
    "            if r < len(world) - 1:\n",
    "                next_value = world[r + 1][c] + gamma * current_values[r + 1][c] \n",
    "                if next_value < best_value:\n",
    "                    best_value = next_value\n",
    "                    policy[r][c] = \"D\"\n",
    "    return policy"
   ]
  },
  {
   "cell_type": "code",
   "execution_count": 102,
   "metadata": {
    "scrolled": true
   },
   "outputs": [
    {
     "name": "stdout",
     "output_type": "stream",
     "text": [
      "Iterations: 0\n",
      "Values: \n",
      "[[0. 0. 0. 0. 0.]\n",
      " [0. 0. 0. 0. 0.]\n",
      " [0. 0. 0. 0. 0.]\n",
      " [0. 0. 0. 0. 0.]\n",
      " [0. 0. 0. 0. 0.]]\n",
      "Iterations: 10\n",
      "Values: \n",
      "[[ 18.789824  19.77728    6.4016    15.672      8.24    ]\n",
      " [ 14.73728   14.7216     6.752     10.84       7.8     ]\n",
      " [ 15.9216    12.152      3.44       9.8        1.      ]\n",
      " [ 11.152      6.44       1.8        1.       -10.      ]\n",
      " [  6.44       1.8        1.       -10.         0.      ]]\n",
      "Iterations: 20\n",
      "Values: \n",
      "[[ 18.789824  19.77728    6.4016    15.672      8.24    ]\n",
      " [ 14.73728   14.7216     6.752     10.84       7.8     ]\n",
      " [ 15.9216    12.152      3.44       9.8        1.      ]\n",
      " [ 11.152      6.44       1.8        1.       -10.      ]\n",
      " [  6.44       1.8        1.       -10.         0.      ]]\n",
      "Iterations: 30\n",
      "Values: \n",
      "[[ 18.789824  19.77728    6.4016    15.672      8.24    ]\n",
      " [ 14.73728   14.7216     6.752     10.84       7.8     ]\n",
      " [ 15.9216    12.152      3.44       9.8        1.      ]\n",
      " [ 11.152      6.44       1.8        1.       -10.      ]\n",
      " [  6.44       1.8        1.       -10.         0.      ]]\n",
      "Iterations: 40\n",
      "Values: \n",
      "[[ 18.789824  19.77728    6.4016    15.672      8.24    ]\n",
      " [ 14.73728   14.7216     6.752     10.84       7.8     ]\n",
      " [ 15.9216    12.152      3.44       9.8        1.      ]\n",
      " [ 11.152      6.44       1.8        1.       -10.      ]\n",
      " [  6.44       1.8        1.       -10.         0.      ]]\n",
      "Iterations: 50\n",
      "Values: \n",
      "[[ 18.789824  19.77728    6.4016    15.672      8.24    ]\n",
      " [ 14.73728   14.7216     6.752     10.84       7.8     ]\n",
      " [ 15.9216    12.152      3.44       9.8        1.      ]\n",
      " [ 11.152      6.44       1.8        1.       -10.      ]\n",
      " [  6.44       1.8        1.       -10.         0.      ]]\n",
      "Iterations: 60\n",
      "Values: \n",
      "[[ 18.789824  19.77728    6.4016    15.672      8.24    ]\n",
      " [ 14.73728   14.7216     6.752     10.84       7.8     ]\n",
      " [ 15.9216    12.152      3.44       9.8        1.      ]\n",
      " [ 11.152      6.44       1.8        1.       -10.      ]\n",
      " [  6.44       1.8        1.       -10.         0.      ]]\n",
      "Iterations: 70\n",
      "Values: \n",
      "[[ 18.789824  19.77728    6.4016    15.672      8.24    ]\n",
      " [ 14.73728   14.7216     6.752     10.84       7.8     ]\n",
      " [ 15.9216    12.152      3.44       9.8        1.      ]\n",
      " [ 11.152      6.44       1.8        1.       -10.      ]\n",
      " [  6.44       1.8        1.       -10.         0.      ]]\n",
      "Iterations: 80\n",
      "Values: \n",
      "[[ 18.789824  19.77728    6.4016    15.672      8.24    ]\n",
      " [ 14.73728   14.7216     6.752     10.84       7.8     ]\n",
      " [ 15.9216    12.152      3.44       9.8        1.      ]\n",
      " [ 11.152      6.44       1.8        1.       -10.      ]\n",
      " [  6.44       1.8        1.       -10.         0.      ]]\n",
      "Iterations: 90\n",
      "Values: \n",
      "[[ 18.789824  19.77728    6.4016    15.672      8.24    ]\n",
      " [ 14.73728   14.7216     6.752     10.84       7.8     ]\n",
      " [ 15.9216    12.152      3.44       9.8        1.      ]\n",
      " [ 11.152      6.44       1.8        1.       -10.      ]\n",
      " [  6.44       1.8        1.       -10.         0.      ]]\n",
      "Optimal policy:\n",
      "['D', 'R', 'D', 'R', 'D']\n",
      "['D', 'R', 'D', 'R', 'D']\n",
      "['R', 'R', 'D', 'R', 'D']\n",
      "['D', 'R', 'D', 'R', 'D']\n",
      "['R', 'R', 'R', 'R', None]\n"
     ]
    }
   ],
   "source": [
    "values = np.zeros((height,width))\n",
    "for _ in range(100):\n",
    "    \n",
    "    if _ % 10 == 0:\n",
    "        print(\"Iterations: {}\".format(_))\n",
    "        print(\"Values: \\n{}\".format(values))\n",
    "    valueIteration(values, world, gamma = 0.8)\n",
    "    \n",
    "VI_policy = policyExtraction(values, world, gamma = 0.8)\n",
    "\n",
    "print(\"Optimal policy:\")\n",
    "for line in VI_policy:\n",
    "    print(line)"
   ]
  },
  {
   "cell_type": "markdown",
   "metadata": {},
   "source": [
    "# Policy Iteration"
   ]
  },
  {
   "cell_type": "code",
   "execution_count": 114,
   "metadata": {},
   "outputs": [],
   "source": [
    "def policyIteration(current_policy, world, iterations = 1, gamma = 0.8):\n",
    "    \n",
    "    for _ in range(iterations):\n",
    "        coeff_mat = np.zeros((world.size - 1, world.size - 1))\n",
    "        dependent_mat = np.zeros(world.size - 1)\n",
    "        num_cols = len(world[0])\n",
    "\n",
    "        for ind in range(len(coeff_mat)):\n",
    "            r, c = ind % num_cols, (ind - ind %num_cols) //5\n",
    "\n",
    "            if current_policy[r][c] == \"D\":\n",
    "                next_r, next_c = r + 1, c\n",
    "\n",
    "            else:\n",
    "                next_r, next_c = r, c + 1\n",
    "\n",
    "            coeff_mat[ind][num_cols*r + c] = 1\n",
    "\n",
    "            if num_cols * next_r + next_c == world.size - 1:\n",
    "                dependent_mat[ind] = world[next_r][next_c]\n",
    "\n",
    "            else:\n",
    "                coeff_mat[ind][num_cols*next_r + c] = -gamma\n",
    "                dependent_mat[ind] = world[next_r][next_c]\n",
    "\n",
    "            values = np.linalg.lstsq(coeff_mat, dependent_mat, rcond=None)[0]\n",
    "\n",
    "        values = np.append(values, 0)\n",
    "        values = np.reshape(values, (-1, num_cols))\n",
    "\n",
    "        current_policy = policyExtraction(values, world, gamma)\n",
    "    \n",
    "    return current_policy,values\n",
    "    \n",
    "    "
   ]
  },
  {
   "cell_type": "code",
   "execution_count": 115,
   "metadata": {
    "scrolled": true
   },
   "outputs": [
    {
     "name": "stdout",
     "output_type": "stream",
     "text": [
      "Iterations: 0\n",
      "['R' 'R' 'R' 'R' 'D']\n",
      "['R' 'R' 'R' 'R' 'D']\n",
      "['R' 'R' 'R' 'R' 'D']\n",
      "['R' 'R' 'R' 'R' 'D']\n",
      "['R' 'R' 'R' 'R' 'N']\n",
      "Iterations: 10\n",
      "['D', 'D', 'D', 'R', 'D']\n",
      "['D', 'D', 'D', 'D', 'D']\n",
      "['R', 'R', 'D', 'D', 'D']\n",
      "['D', 'R', 'D', 'R', 'D']\n",
      "['R', 'R', 'R', 'R', None]\n",
      "Iterations: 20\n",
      "['D', 'D', 'D', 'R', 'D']\n",
      "['D', 'D', 'D', 'D', 'D']\n",
      "['R', 'R', 'D', 'D', 'D']\n",
      "['D', 'R', 'D', 'R', 'D']\n",
      "['R', 'R', 'R', 'R', None]\n",
      "Iterations: 30\n",
      "['D', 'D', 'D', 'R', 'D']\n",
      "['D', 'D', 'D', 'D', 'D']\n",
      "['R', 'R', 'D', 'D', 'D']\n",
      "['D', 'R', 'D', 'R', 'D']\n",
      "['R', 'R', 'R', 'R', None]\n",
      "Iterations: 40\n",
      "['D', 'D', 'D', 'R', 'D']\n",
      "['D', 'D', 'D', 'D', 'D']\n",
      "['R', 'R', 'D', 'D', 'D']\n",
      "['D', 'R', 'D', 'R', 'D']\n",
      "['R', 'R', 'R', 'R', None]\n",
      "Iterations: 50\n",
      "['D', 'D', 'D', 'R', 'D']\n",
      "['D', 'D', 'D', 'D', 'D']\n",
      "['R', 'R', 'D', 'D', 'D']\n",
      "['D', 'R', 'D', 'R', 'D']\n",
      "['R', 'R', 'R', 'R', None]\n",
      "Iterations: 60\n",
      "['D', 'D', 'D', 'R', 'D']\n",
      "['D', 'D', 'D', 'D', 'D']\n",
      "['R', 'R', 'D', 'D', 'D']\n",
      "['D', 'R', 'D', 'R', 'D']\n",
      "['R', 'R', 'R', 'R', None]\n",
      "Iterations: 70\n",
      "['D', 'D', 'D', 'R', 'D']\n",
      "['D', 'D', 'D', 'D', 'D']\n",
      "['R', 'R', 'D', 'D', 'D']\n",
      "['D', 'R', 'D', 'R', 'D']\n",
      "['R', 'R', 'R', 'R', None]\n",
      "Iterations: 80\n",
      "['D', 'D', 'D', 'R', 'D']\n",
      "['D', 'D', 'D', 'D', 'D']\n",
      "['R', 'R', 'D', 'D', 'D']\n",
      "['D', 'R', 'D', 'R', 'D']\n",
      "['R', 'R', 'R', 'R', None]\n",
      "Iterations: 90\n",
      "['D', 'D', 'D', 'R', 'D']\n",
      "['D', 'D', 'D', 'D', 'D']\n",
      "['R', 'R', 'D', 'D', 'D']\n",
      "['D', 'R', 'D', 'R', 'D']\n",
      "['R', 'R', 'R', 'R', None]\n"
     ]
    }
   ],
   "source": [
    "PI_policy = np.array([[\"R\" for _ in row] for row in world])\n",
    "PI_policy[:,-1] = np.array([\"D\" for row in world]).reshape(-1)\n",
    "PI_policy[-1][-1] = None\n",
    "\n",
    "for _ in range(100):\n",
    "    if _ % 10 == 0:\n",
    "        print(\"Iterations: {}\".format(_))\n",
    "        for line in PI_policy:\n",
    "            print(line)\n",
    "    PI_policy, PI_values = policyIteration(PI_policy, world, iterations = 1)"
   ]
  },
  {
   "cell_type": "markdown",
   "metadata": {},
   "source": [
    "# Q Learning"
   ]
  },
  {
   "cell_type": "code",
   "execution_count": 112,
   "metadata": {},
   "outputs": [
    {
     "data": {
      "text/plain": [
       "[['D', 'R', 'D', 'R', 'D'],\n",
       " ['D', 'R', 'D', 'R', 'D'],\n",
       " ['R', 'R', 'D', 'R', 'D'],\n",
       " ['D', 'R', 'D', 'R', 'D'],\n",
       " ['R', 'R', 'R', 'R', None]]"
      ]
     },
     "execution_count": 112,
     "metadata": {},
     "output_type": "execute_result"
    }
   ],
   "source": [
    "VI_policy"
   ]
  },
  {
   "cell_type": "code",
   "execution_count": 117,
   "metadata": {
    "scrolled": false
   },
   "outputs": [
    {
     "name": "stdout",
     "output_type": "stream",
     "text": [
      "[ 4.6    8.8    1.384 -2.5    8.24 ]\n",
      "[-3.    1.    0.48  3.    7.8 ]\n",
      "[-6.25000000e+00 -5.00000000e+00 -4.40000000e+00  1.77635684e-15\n",
      "  1.00000000e+00]\n",
      "[  1.    -2.5   -8.   -11.25 -10.  ]\n",
      "[ -6.25  -1.25 -11.25 -10.     0.  ]\n"
     ]
    }
   ],
   "source": [
    "for line in PI_values:\n",
    "    print(line)"
   ]
  },
  {
   "cell_type": "code",
   "execution_count": 118,
   "metadata": {},
   "outputs": [
    {
     "data": {
      "text/plain": [
       "array([[ 18.789824,  19.77728 ,   6.4016  ,  15.672   ,   8.24    ],\n",
       "       [ 14.73728 ,  14.7216  ,   6.752   ,  10.84    ,   7.8     ],\n",
       "       [ 15.9216  ,  12.152   ,   3.44    ,   9.8     ,   1.      ],\n",
       "       [ 11.152   ,   6.44    ,   1.8     ,   1.      , -10.      ],\n",
       "       [  6.44    ,   1.8     ,   1.      , -10.      ,   0.      ]])"
      ]
     },
     "execution_count": 118,
     "metadata": {},
     "output_type": "execute_result"
    }
   ],
   "source": [
    "values"
   ]
  },
  {
   "cell_type": "code",
   "execution_count": null,
   "metadata": {},
   "outputs": [],
   "source": []
  }
 ],
 "metadata": {
  "kernelspec": {
   "display_name": "Python 3",
   "language": "python",
   "name": "python3"
  },
  "language_info": {
   "codemirror_mode": {
    "name": "ipython",
    "version": 3
   },
   "file_extension": ".py",
   "mimetype": "text/x-python",
   "name": "python",
   "nbconvert_exporter": "python",
   "pygments_lexer": "ipython3",
   "version": "3.7.1"
  }
 },
 "nbformat": 4,
 "nbformat_minor": 2
}
