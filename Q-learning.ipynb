{
 "cells": [
  {
   "cell_type": "code",
   "execution_count": 1,
   "metadata": {},
   "outputs": [],
   "source": [
    "import gym\n",
    "import numpy as np\n",
    "from tqdm import tnrange, tqdm_notebook"
   ]
  },
  {
   "cell_type": "markdown",
   "metadata": {},
   "source": [
    "# Mountain Car v0\n",
    "\n",
    "State variables\n",
    "1. $x$ coordinate\n",
    "2. velocity"
   ]
  },
  {
   "cell_type": "code",
   "execution_count": 2,
   "metadata": {
    "scrolled": true
   },
   "outputs": [],
   "source": [
    "env = gym.make(\"MountainCar-v0\")    "
   ]
  },
  {
   "cell_type": "code",
   "execution_count": 3,
   "metadata": {},
   "outputs": [
    {
     "name": "stdout",
     "output_type": "stream",
     "text": [
      "Range of x: -1.2000000476837158 - 0.6000000238418579\n",
      "Range of velocity: -0.07000000029802322 - 0.07000000029802322\n"
     ]
    }
   ],
   "source": [
    "x_high, vel_high = env.observation_space.high\n",
    "x_low, vel_low = env.observation_space.low\n",
    "print(f\"Range of x: {x_low} - {x_high}\")\n",
    "print(f\"Range of velocity: {vel_low} - {vel_high}\")"
   ]
  },
  {
   "cell_type": "code",
   "execution_count": 4,
   "metadata": {},
   "outputs": [],
   "source": [
    "X_BIN_COUNT = 20\n",
    "VEL_BIN_COUNT = 20\n",
    "action_space_dim = env.action_space.n\n",
    "DISCOUNT_FACTOR = 0.95\n",
    "LEARNING_RATE = 0.1\n",
    "MAX_EPSILON = 1\n",
    "MIN_EPSILON = 0.5\n"
   ]
  },
  {
   "cell_type": "code",
   "execution_count": 5,
   "metadata": {},
   "outputs": [],
   "source": [
    "def round_to_nearest_bin(state):\n",
    "    x, vel = state\n",
    "    x_ind = int((x - x_low) / (x_high - x_low) * X_BIN_COUNT)\n",
    "    vel_ind = int((vel - vel_low) / (vel_high - vel_low) * VEL_BIN_COUNT)\n",
    "    \n",
    "    return np.array([x_ind, vel_ind])    "
   ]
  },
  {
   "cell_type": "code",
   "execution_count": 6,
   "metadata": {},
   "outputs": [],
   "source": [
    "def update_q_table(q_table, quartet):\n",
    "    current_state, action, reward, next_state = quartet\n",
    "    \n",
    "    current_q_value = q_table[tuple(current_state)][action]\n",
    "    \n",
    "    best_q_value_next_state = np.max(q_table[tuple(next_state)])\n",
    "    \n",
    "    new_q_value = (1 - LEARNING_RATE) * current_q_value + LEARNING_RATE * (reward + DISCOUNT_FACTOR * best_q_value_next_state)\n",
    "    \n",
    "    q_table[tuple(current_state)][action] = new_q_value\n",
    "    \n",
    "    "
   ]
  },
  {
   "cell_type": "code",
   "execution_count": 7,
   "metadata": {},
   "outputs": [],
   "source": [
    "def decide_action(q_table, state, epsilon):\n",
    "    \n",
    "    if np.random.uniform() < epsilon:\n",
    "        return np.random.randint(action_space_dim)\n",
    "    else:\n",
    "        return np.argmax(q_table[tuple(state)])"
   ]
  },
  {
   "cell_type": "code",
   "execution_count": 9,
   "metadata": {},
   "outputs": [
    {
     "data": {
      "application/vnd.jupyter.widget-view+json": {
       "model_id": "27ad48ab790340b2a3ca4872d724ee50",
       "version_major": 2,
       "version_minor": 0
      },
      "text/plain": [
       "HBox(children=(IntProgress(value=0, description='Episode', max=15000, style=ProgressStyle(description_width='i…"
      ]
     },
     "metadata": {},
     "output_type": "display_data"
    }
   ],
   "source": [
    "episode_count = 15000\n",
    "SHOW_EVERY = 3000\n",
    "q_table = np.random.uniform(-2, 0, size = (X_BIN_COUNT, VEL_BIN_COUNT, action_space_dim))\n",
    "epsilon = MAX_EPSILON\n",
    "\n",
    "for episode in tnrange(episode_count, desc = \"Episode\"):\n",
    "    state = env.reset()\n",
    "    done = False\n",
    "    \n",
    "    epsilon = MAX_EPSILON - (MAX_EPSILON - MIN_EPSILON) / episode_count * episode\n",
    "    while not done:\n",
    "        state_binned = tuple(round_to_nearest_bin(state))\n",
    "        action = decide_action(q_table, state_binned, epsilon)\n",
    "        new_state, reward, done, _ = env.step(action)    \n",
    "        \n",
    "        new_state_binned = tuple(round_to_nearest_bin(new_state))\n",
    "        \n",
    "        if episode % SHOW_EVERY == 0:\n",
    "            env.render()\n",
    "        \n",
    "        if not done:\n",
    "            update_q_table(q_table, (state_binned, action, reward, new_state_binned))\n",
    "            \n",
    "        else:\n",
    "            if new_state[0] >= env.goal_position:\n",
    "                q_table[state_binned][action] = 0\n",
    "                \n",
    "        state = new_state\n",
    "        \n",
    "    if episode % SHOW_EVERY == 0:\n",
    "        env.close()\n",
    "    \n",
    "        \n",
    "        \n"
   ]
  },
  {
   "cell_type": "code",
   "execution_count": 15,
   "metadata": {},
   "outputs": [
    {
     "name": "stdout",
     "output_type": "stream",
     "text": [
      "Score: 158\n"
     ]
    }
   ],
   "source": [
    "state = env.reset()\n",
    "done = False\n",
    "score = 0\n",
    "epsilon = 0\n",
    "while not done:\n",
    "    action = decide_action(q_table ,round_to_nearest_bin(state),  epsilon)\n",
    "    new_state, reward, done, _ = env.step(action)\n",
    "    score += 1\n",
    "    env.render()\n",
    "    \n",
    "    state = new_state\n",
    "    \n",
    "env.close()\n",
    "print(f\"Score: {score}\")"
   ]
  }
 ],
 "metadata": {
  "kernelspec": {
   "display_name": "Python 3",
   "language": "python",
   "name": "python3"
  },
  "language_info": {
   "codemirror_mode": {
    "name": "ipython",
    "version": 3
   },
   "file_extension": ".py",
   "mimetype": "text/x-python",
   "name": "python",
   "nbconvert_exporter": "python",
   "pygments_lexer": "ipython3",
   "version": "3.7.1"
  }
 },
 "nbformat": 4,
 "nbformat_minor": 2
}
